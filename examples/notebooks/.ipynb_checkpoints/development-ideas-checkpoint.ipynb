{
 "cells": [
  {
   "cell_type": "markdown",
   "id": "b7cbcd4e",
   "metadata": {},
   "source": [
    "# Development ideas\n",
    "This notebok is used for conveniently testing some development ideas and then implementing them in `PhreeqcMatlab`. It does not follow any specific logic and therefore is a fun place to start learning about the internals of `PhreeqcMatlab`."
   ]
  },
  {
   "cell_type": "markdown",
   "id": "604c3a69",
   "metadata": {},
   "source": [
    "## Installation\n",
    "To play with this notebook, follow the following steps:  \n",
    "First, install [miniconda](https://docs.conda.io/en/latest/miniconda.html) and create a new virtual environment with python 3.8 or 3.9. Note that Matlab 2022a that I use does not support the higher versions of Python but it will likely change in the future in the updated versions of Matlab. The following is a summary of the next steps, i.e. adding conda-forge, installing [Python engine for Matlab](https://se.mathworks.com/help/matlab/matlab_external/install-the-matlab-engine-for-python.html), and installing `matlab kernel` for Jupyter notebook:  \n",
    "```bash\n",
    "conda config --add channels conda-forge\n",
    "conda create -n mymatlab python=3.8 notebook\n",
    "conda activate mymatlab\n",
    "cd MATLAB/R2022a/extern/engines/python\n",
    "python setup.py install\n",
    "conda install matlab_kernel\n",
    "jupyter notebook\n",
    "```"
   ]
  },
  {
   "cell_type": "code",
   "execution_count": 1,
   "id": "6d125a31",
   "metadata": {},
   "outputs": [
    {
     "name": "stdout",
     "output_type": "stream",
     "text": [
      "PhreeqcMatlab is starting. Checking for the PhreeqcRM library ...\n",
      "libphreeqcrm.so library exists.\n",
      "PhreeqcMatlab started successfully\n",
      "libiphreeqc.so library exists.\n",
      "IPhreeqc functions are available\n"
     ]
    }
   ],
   "source": [
    "% startup PhreeqcMatlab toolbox\n",
    "run('../../startup')"
   ]
  },
  {
   "cell_type": "markdown",
   "id": "6cc70ae9",
   "metadata": {},
   "source": [
    "## Surfaces\n",
    "This part deals with the equilibration of a solution with a surface (and later a phase) in `PhreeqcRM` and automatic creation of `SELECTED_OUTPUT` blocks to extract the most relevant properties of the surface.  \n",
    "First, I create a `PhreeqcRM` instance to play with the functions that read the surface species and types. Then I create some selected output blocks with them and make sure that everything is in the right place. Finally, I will create a new `SurfaceResult` class to store the output of a surface-solution equilibration."
   ]
  },
  {
   "cell_type": "code",
   "execution_count": 2,
   "id": "ff6b6c6f",
   "metadata": {},
   "outputs": [
    {
     "name": "stdout",
     "output_type": "stream",
     "text": [
      "\n",
      "iph_string =\n",
      "\n",
      "    'SURFACE_MASTER_SPECIES \n",
      "      Chalk_a Chalk_aOH-0.667 \n",
      "      Chalk_c Chalk_cH+0.667 \n",
      "      SURFACE_SPECIES \n",
      "      Chalk_cH+0.667 = Chalk_cH+0.667 \n",
      "      log_k 0 \n",
      "      delta_h 0 \n",
      "      -cd_music 0  0  0  0  0 \n",
      "      Chalk_aOH-0.667 = Chalk_aOH-0.667 \n",
      "      log_k 0 \n",
      "      delta_h 0 \n",
      "      -cd_music 0  0  0  0  0 \n",
      "      Chalk_cH+0.667 = Chalk_c-0.333 + H+ \n",
      "      log_k -3.1446 \n",
      "      delta_h 0 \n",
      "      -cd_music -1  0  0  0  0 \n",
      "      Chalk_cH+0.667 + Ca+2 = Chalk_cCa+1.667 + H+ \n",
      "      log_k -2.1934 \n",
      "      delta_h 0 \n",
      "      -cd_music -1  2  0  0  0 \n",
      "      Chalk_cH+0.667 + Mg+2 = Chalk_cMg+1.667 + H+ \n",
      "      log_k -2.3467 \n",
      "      delta_h 0 \n",
      "      -cd_music -1  2  0  0  0 \n",
      "      Chalk_aOH-0.667 + H+ = Chalk_aOH2+0.333 \n",
      "      log_k 13.5401 \n",
      "      delta_h 0 \n",
      "      -cd_music 1  0  0  0  0 \n",
      "      Chalk_aOH-0.667 + CO3-2 + H+ = Chalk_aHCO3-0.667 + OH- \n",
      "      log_k 9.2433 \n",
      "      delta_h 0 \n",
      "      -cd_music 0.6        -0.6           0           0           0 \n",
      "      Chalk_aOH-0.667 + CO3-2 = Chalk_aCO3-1.667 + OH- \n",
      "      log_k 1 \n",
      "      delta_h 0 \n",
      "      -cd_music 0.6        -1.6           0           0           0 \n",
      "      Chalk_aOH-0.667 + SO4-2 = Chalk_aSO4-1.667 + OH- \n",
      "      log_k -0.141 \n",
      "      delta_h 0 \n",
      "      -cd_music 1.4        -2.4           0           0           0 \n",
      "      Chalk_cH+0.667 + Na+ = Chalk_cNa+0.667 + H+ \n",
      "      log_k -3.7379 \n",
      "      delta_h 0 \n",
      "      -cd_music -1  1  0  0  0 \n",
      "      SOLUTION  1 Seawater \n",
      "      units ppm \n",
      "      pressure 1 \n",
      "      temp 25 \n",
      "      pH 8.22 \n",
      "      pe 8.451 \n",
      "      density 1.0253 \n",
      "      Ca    412.3 \n",
      "      Mg    1291.8 \n",
      "      Na    10768 \n",
      "      K    399.1 \n",
      "      Si    4.28 \n",
      "      Cl    19353 \n",
      "      S(6)    2712 \n",
      "      Alkalinity 141.682   as   HCO3 \n",
      "      END \n",
      "      SURFACE 1 Calcite_CD_MUSIC \n",
      "      -cd_music \n",
      "      -sites_units density \n",
      "      Chalk_a 4.95 2 10 \n",
      "      Chalk_c 4.95 \n",
      "      -capacitances  1.3         4.5 \n",
      "      -equilibrate  1 \n",
      "     END'\n",
      "\n"
     ]
    }
   ],
   "source": [
    "% let's see if things work fine:\n",
    "% create a seawater solution\n",
    "sw = Solution.seawater;\n",
    "% sw.run;\n",
    "% or try sw.run_in_phreeqc; both must work and create \n",
    "% a report on seawater composition\n",
    "% create a calcite surface\n",
    "calcite = Surface.calcite_surface_cd_music;\n",
    "calcite.mass = 10.0;\n",
    "calcite.edl_thickness = [];\n",
    "% Combine the surfaces as a string and run in PhreeqcRM\n",
    "iph_string = calcite.combine_surface_solution_string(sw)"
   ]
  },
  {
   "cell_type": "markdown",
   "id": "fcb12d16",
   "metadata": {},
   "source": [
    "## Running in PhreeqcRM\n",
    "The following script creates a `PhreeqcRM` instance and initializes it. Try to run the following cell only once to avoid creating many instances of PhreeqcRM without cleaning them up from the memory."
   ]
  },
  {
   "cell_type": "code",
   "execution_count": 3,
   "id": "25cbc391",
   "metadata": {},
   "outputs": [],
   "source": [
    "phreeqc_rm = PhreeqcRM(1, 1); % one cell, one thread\n",
    "phreeqc_rm = phreeqc_rm.RM_Create();"
   ]
  },
  {
   "cell_type": "code",
   "execution_count": 4,
   "id": "66ab18ee",
   "metadata": {},
   "outputs": [
    {
     "name": "stdout",
     "output_type": "stream",
     "text": [
      "\n",
      "ans =\n",
      "\n",
      "    12\n",
      "\n"
     ]
    }
   ],
   "source": [
    "data_file = 'phreeqc.dat';\n",
    "phreeqc_rm.RM_LoadDatabase(database_file(data_file));\n",
    "phreeqc_rm.RM_RunString(true, true, true, iph_string);\n",
    "phreeqc_rm.RM_FindComponents() % always run it first"
   ]
  },
  {
   "cell_type": "markdown",
   "id": "7e0c7ed4",
   "metadata": {},
   "source": [
    "## Creating the selected output block"
   ]
  },
  {
   "cell_type": "code",
   "execution_count": 5,
   "id": "782d02f7",
   "metadata": {},
   "outputs": [
    {
     "name": "stdout",
     "output_type": "stream",
     "text": [
      "\n",
      "ans =\n",
      "\n",
      "  12x1 cell array\n",
      "\n",
      "    {'H2O'   }\n",
      "    {'H'     }\n",
      "    {'O'     }\n",
      "    {'Charge'}\n",
      "    {'C'     }\n",
      "    {'Ca'    }\n",
      "    {'Cl'    }\n",
      "    {'K'     }\n",
      "    {'Mg'    }\n",
      "    {'Na'    }\n",
      "    {'S'     }\n",
      "    {'Si'    }\n",
      "\n",
      "\n",
      "ans =\n",
      "\n",
      "  10x1 cell array\n",
      "\n",
      "    {'Chalk_aCO3-1.667' }\n",
      "    {'Chalk_aHCO3-0.667'}\n",
      "    {'Chalk_aOH-0.667'  }\n",
      "    {'Chalk_aOH2+0.333' }\n",
      "    {'Chalk_aSO4-1.667' }\n",
      "    {'Chalk_c-0.333'    }\n",
      "    {'Chalk_cCa+1.667'  }\n",
      "    {'Chalk_cH+0.667'   }\n",
      "    {'Chalk_cMg+1.667'  }\n",
      "    {'Chalk_cNa+0.667'  }\n",
      "\n"
     ]
    }
   ],
   "source": [
    "phreeqc_rm.GetComponents()\n",
    "phreeqc_rm.GetSurfaceSpeciesNames()"
   ]
  },
  {
   "cell_type": "code",
   "execution_count": null,
   "id": "7b587456",
   "metadata": {},
   "outputs": [],
   "source": [
    "phreeqc_rm.RM_SetSelectedOutputOn(true);\n",
    "phreeqc_rm.RM_SetComponentH2O(true);\n",
    "phreeqc_rm.RM_SetUnitsSolution(2);\n",
    "phreeqc_rm.RM_SetSpeciesSaveOn(true);\n",
    "ic1 = -1*ones(7, 1);\n",
    "ic2 = -1*ones(7, 1);\n",
    "% 1 solution, 2 eq phase, 3 exchange, 4 surface, 5 gas, 6 solid solution, 7 kinetic\n",
    "f1 = ones(7, 1);\n",
    "ic1(1) = sw.number;              % Solution seawater\n",
    "ic1(4) = calcite.number;         % Surface calcite\n",
    "phreeqc_rm.RM_InitialPhreeqc2Module(ic1, ic2, f1);\n",
    "phreeqc_rm.RM_RunCells();"
   ]
  },
  {
   "cell_type": "markdown",
   "id": "37ca8c74",
   "metadata": {},
   "source": [
    "## Running the cell with selected output"
   ]
  },
  {
   "cell_type": "code",
   "execution_count": null,
   "id": "0bd98529",
   "metadata": {},
   "outputs": [],
   "source": [
    "\n",
    "t_out = phreeqc_rm.GetSelectedOutputTable(sw.number);"
   ]
  }
 ],
 "metadata": {
  "kernelspec": {
   "display_name": "Matlab",
   "language": "matlab",
   "name": "matlab"
  },
  "language_info": {
   "codemirror_mode": "octave",
   "file_extension": ".m",
   "help_links": [
    {
     "text": "MetaKernel Magics",
     "url": "https://metakernel.readthedocs.io/en/latest/source/README.html"
    }
   ],
   "mimetype": "text/x-octave",
   "name": "matlab",
   "version": "0.17.1"
  }
 },
 "nbformat": 4,
 "nbformat_minor": 5
}
