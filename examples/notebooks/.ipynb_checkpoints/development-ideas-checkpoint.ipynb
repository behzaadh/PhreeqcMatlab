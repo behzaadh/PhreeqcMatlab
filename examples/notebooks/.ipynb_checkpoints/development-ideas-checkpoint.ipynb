{
 "cells": [
  {
   "cell_type": "markdown",
   "id": "71a850be",
   "metadata": {},
   "source": [
    "# Development ideas\n",
    "This notebok is used for conveniently testing some development ideas and then implementing them in `PhreeqcMatlab`. It does not follow any specific logic and therefore is a fun place to start learning about the internals of `PhreeqcMatlab`."
   ]
  },
  {
   "cell_type": "markdown",
   "id": "30b429f6",
   "metadata": {},
   "source": [
    "## Installation\n",
    "To play with this notebook, follow the following steps:  \n",
    "First, install [miniconda](https://docs.conda.io/en/latest/miniconda.html) and create a new virtual environment with python 3.8 or 3.9. Note that Matlab 2022a that I use does not support the higher versions of Python but it will likely change in the future in the updated versions of Matlab. The following is a summary of the next steps, i.e. adding conda-forge, installing [Python engine for Matlab](https://se.mathworks.com/help/matlab/matlab_external/install-the-matlab-engine-for-python.html), and installing `matlab kernel` for Jupyter notebook:  \n",
    "```bash\n",
    "conda config --add channels conda-forge\n",
    "conda create -n mymatlab python=3.8 notebook\n",
    "conda activate mymatlab\n",
    "cd MATLAB/R2022a/extern/engines/python\n",
    "python setup.py install\n",
    "conda install matlab_kernel\n",
    "jupyter notebook\n",
    "```"
   ]
  },
  {
   "cell_type": "code",
   "execution_count": 56,
   "id": "8c3f69fd",
   "metadata": {},
   "outputs": [
    {
     "name": "stdout",
     "output_type": "stream",
     "text": [
      "PhreeqcMatlab is starting. Checking for the PhreeqcRM library ...\n",
      "libphreeqcrm.so library exists.\n",
      "PhreeqcMatlab started successfully\n",
      "libiphreeqc.so library exists.\n",
      "IPhreeqc functions are available\n"
     ]
    }
   ],
   "source": [
    "% startup PhreeqcMatlab toolbox\n",
    "run('../../startup')"
   ]
  },
  {
   "cell_type": "markdown",
   "id": "0d9b125e",
   "metadata": {},
   "source": [
    "## Surfaces\n",
    "This part deals with the equilibration of a solution with a surface (and later a phase) in `PhreeqcRM` and automatic creation of `SELECTED_OUTPUT` blocks to extract the most relevant properties of the surface.  \n",
    "First, I create a `PhreeqcRM` instance to play with the functions that read the surface species and types. Then I create some selected output blocks with them and make sure that everything is in the right place. Finally, I will create a new `SurfaceResult` class to store the output of a surface-solution equilibration."
   ]
  },
  {
   "cell_type": "code",
   "execution_count": 57,
   "id": "fac1ca26",
   "metadata": {},
   "outputs": [
    {
     "name": "stdout",
     "output_type": "stream",
     "text": [
      "\n",
      "iph_string =\n",
      "\n",
      "    'SURFACE_MASTER_SPECIES \n",
      "      Chalk_a Chalk_aOH-0.667 \n",
      "      Chalk_c Chalk_cH+0.667 \n",
      "      SURFACE_SPECIES \n",
      "      Chalk_cH+0.667 = Chalk_cH+0.667 \n",
      "      log_k 0 \n",
      "      delta_h 0 \n",
      "      -cd_music 0  0  0  0  0 \n",
      "      Chalk_aOH-0.667 = Chalk_aOH-0.667 \n",
      "      log_k 0 \n",
      "      delta_h 0 \n",
      "      -cd_music 0  0  0  0  0 \n",
      "      Chalk_cH+0.667 = Chalk_c-0.333 + H+ \n",
      "      log_k -3.1446 \n",
      "      delta_h 0 \n",
      "      -cd_music -1  0  0  0  0 \n",
      "      Chalk_cH+0.667 + Ca+2 = Chalk_cCa+1.667 + H+ \n",
      "      log_k -2.1934 \n",
      "      delta_h 0 \n",
      "      -cd_music -1  2  0  0  0 \n",
      "      Chalk_cH+0.667 + Mg+2 = Chalk_cMg+1.667 + H+ \n",
      "      log_k -2.3467 \n",
      "      delta_h 0 \n",
      "      -cd_music -1  2  0  0  0 \n",
      "      Chalk_aOH-0.667 + H+ = Chalk_aOH2+0.333 \n",
      "      log_k 13.5401 \n",
      "      delta_h 0 \n",
      "      -cd_music 1  0  0  0  0 \n",
      "      Chalk_aOH-0.667 + CO3-2 + H+ = Chalk_aHCO3-0.667 + OH- \n",
      "      log_k 9.2433 \n",
      "      delta_h 0 \n",
      "      -cd_music 0.6        -0.6           0           0           0 \n",
      "      Chalk_aOH-0.667 + CO3-2 = Chalk_aCO3-1.667 + OH- \n",
      "      log_k 1 \n",
      "      delta_h 0 \n",
      "      -cd_music 0.6        -1.6           0           0           0 \n",
      "      Chalk_aOH-0.667 + SO4-2 = Chalk_aSO4-1.667 + OH- \n",
      "      log_k -0.141 \n",
      "      delta_h 0 \n",
      "      -cd_music 1.4        -2.4           0           0           0 \n",
      "      Chalk_cH+0.667 + Na+ = Chalk_cNa+0.667 + H+ \n",
      "      log_k -3.7379 \n",
      "      delta_h 0 \n",
      "      -cd_music -1  1  0  0  0 \n",
      "      SOLUTION  1 Seawater \n",
      "      units ppm \n",
      "      pressure 1 \n",
      "      temp 25 \n",
      "      pH 8.22 \n",
      "      pe 8.451 \n",
      "      density 1.0253 \n",
      "      Ca    412.3 \n",
      "      Mg    1291.8 \n",
      "      Na    10768 \n",
      "      K    399.1 \n",
      "      Si    4.28 \n",
      "      Cl    19353 \n",
      "      S(6)    2712 \n",
      "      Alkalinity 141.682   as   HCO3 \n",
      "      END \n",
      "      SURFACE 1 Calcite_CD_MUSIC \n",
      "      -cd_music \n",
      "      -sites_units density \n",
      "      Chalk_a 4.95 2 10 \n",
      "      Chalk_c 4.95 \n",
      "      -capacitances  1.3         4.5 \n",
      "      -equilibrate  1 \n",
      "     END'\n",
      "\n"
     ]
    }
   ],
   "source": [
    "% let's see if things work fine:\n",
    "% create a seawater solution\n",
    "sw = Solution.seawater;\n",
    "% sw.run;\n",
    "% or try sw.run_in_phreeqc; both must work and create \n",
    "% a report on seawater composition\n",
    "% create a calcite surface\n",
    "calcite = Surface.calcite_surface_cd_music;\n",
    "calcite.mass = 10.0;\n",
    "calcite.edl_thickness = [];\n",
    "% Combine the surfaces as a string and run in PhreeqcRM\n",
    "iph_string = calcite.combine_surface_solution_string(sw)"
   ]
  },
  {
   "cell_type": "markdown",
   "id": "eaba276b",
   "metadata": {},
   "source": [
    "## Running in PhreeqcRM\n",
    "The following script creates a `PhreeqcRM` instance and initializes it. Try to run the following cell only once to avoid creating many instances of PhreeqcRM without cleaning them up from the memory."
   ]
  },
  {
   "cell_type": "code",
   "execution_count": 58,
   "id": "bf913473",
   "metadata": {},
   "outputs": [],
   "source": [
    "phreeqc_rm = PhreeqcRM(1, 1); % one cell, one thread\n",
    "phreeqc_rm = phreeqc_rm.RM_Create();"
   ]
  },
  {
   "cell_type": "code",
   "execution_count": 59,
   "id": "d0174ea0",
   "metadata": {},
   "outputs": [
    {
     "name": "stdout",
     "output_type": "stream",
     "text": [
      "\n",
      "ans =\n",
      "\n",
      "    12\n",
      "\n"
     ]
    }
   ],
   "source": [
    "data_file = 'phreeqc.dat';\n",
    "phreeqc_rm.RM_LoadDatabase(database_file(data_file));\n",
    "phreeqc_rm.RM_SetSelectedOutputOn(true);\n",
    "phreeqc_rm.RM_RunString(true, true, true, iph_string);\n",
    "phreeqc_rm.RM_FindComponents() % always run it first"
   ]
  },
  {
   "cell_type": "markdown",
   "id": "0d508086",
   "metadata": {},
   "source": [
    "## Creating the selected output block\n",
    "The following Basic functions of Phreeqc are used in the PUNCH block of the SELECTED_OUTPUT data block:\n",
    "### MOL(\"HCO3-\")\n",
    "Molality of an aqueous, exchange, or surface species.\n",
    "### LM(\"HCO3-\")\n",
    "Log10 of molality of an aqueous, exchange, or surface species.\n",
    "### LK_SPECIES(\"HCO3-\")\n",
    "Log10 of the equilibrium constant for an aqueous, exchange, or surface species.\n",
    "### LA(\"HCO3-\")\n",
    "Log10 of activity of an aqueous, exchange, or surface species.\n",
    "### EQUIV_FRAC(\"(Hfo_w)2Al+\", eq, x\\\\$)\n",
    "Equivalent fraction of an exchange or surface species relative to the total number of equivalents of exchange or surface sites. The second argument returns the number of sites per mole of species. The third argument returns the site name (Hfo_w in the example). If an exchange or surface species is not found with the given name, the function returns zero; the second argument is zero, and the third argument is an empty string.\n",
    "### ACT(\"HCO3-\")\n",
    "Activity of an aqueous, exchange, or surface species.\n",
    "### EDL(\"As\", \"Hfo\")\n",
    "Moles of element in the diffuse layer of a surface. The number of moles does not include the specifically sorbed species. The surface name should be used, not a surface site name (that is, no underscore). The first argument can have several special values, which return information for the surface: “charge”, surface charge, in equivalents; “sigma”, surface charge density, coulombs per square meter; “psi”, potential, Volts; “water”, mass of water in the diffuse layer, kg.\n",
    "\n",
    "For CD-MUSIC surfaces, charge, sigma and psi can be requested for the 0, 1 and 2 planes:\n",
    "EDL(\"Charge\", \"Goe\") # Charge (eq) at the zero-plane of Goe (Goethite)\n",
    "EDL(\"Charge1\", \"Goe\") # Charge (eq) at plane 1 of Goe\n",
    "EDL(\"Charge2\", \"Goe\") # Charge (eq) at plane 2 of Goe\n",
    "and similar for “sigma” and “psi”.\n",
    "### EDL_SPECIES\n",
    "EDL_SPECIES(surf\\\\$, count, name\\\\$, moles, area, thickness)  \n",
    "Returns the total number of moles of species in the diffuse layer. The The arguments to the function are as follows: surf\\\\$ is the name of a surface, such as \"Hfo\", excluding the site type (such as \"_s\"); count is the number of species in the diffuse layer; name\\\\$ is an array of size count that contains the names of aqueous species in the diffuse layer of surface surf\\\\$; moles is an array of size count that contains the number of moles of each aqueous species in the diffuse layer of surface surf\\\\$; area is the area of the surface in m^2; thickness is the thickness of the diffuse layer in m. The function applies when -donnan or -diffuse_layer is defined in SURFACE calculations.\n",
    "### SURF(\"element\", \"surface\")\n",
    "Number of moles of the element sorbed on the surface. The second argument should be the surface name, not the surface-site name (that is, no underscore). A redox state may be specified; for example, “As” or “As(5)” is permitted.\n",
    "\n",
    "### SYS(\"element\")\n",
    "\n",
    "With a single argument, SYS calculates the number of moles of the element in all phases (solution, equilibrium phases, surfaces, exchangers, solid solutions, and gas phase) in the reaction calculation.\n",
    "\n",
    "### SYS(\"element\", count , name\\\\$ , type\\\\$ , moles )\n",
    "\n",
    "With five arguments, SYS returns the number of moles of the element in all phases in the reaction calculation (solution, equilibrium phases, surfaces, exchangers, solid solutions, and gas phase), and, in addition, returns values for count_species , name\\\\$ , type\\\\$ , moles. Count is the dimension of the name\\\\$ , type\\\\$ , and moles arrays. Name\\\\$ is a character array with the name of each species that contains the element. Type\\\\$ , is a character array with the type of the phase of each species: “aq”, “equi”, “surf”, “ex”, “s_s”, “gas”, or “diff”; where aq is aqueous, equi is equilibrium phase, surf is surface, ex is exchange, s_s is solid solution, gas is gas phase, and diff is surface diffuse layer. Moles is the number of moles of the element in the species (stoichiometry of element times moles of species). The sum of all items in the moles array is equal to the return value of the SYS function.  \n",
    "The five-argument form of SYS accepts the following arguments in place of “element”:  \n",
    "“ elements ” returns the total number of moles of elements solution, exchangers, and surfaces in the calculation, other than H and O. Count is number of elements, valence states, exchangers, and surfaces. Name\\\\$ contains the element name. Type\\\\$ contains the type for each array item: “dis” for dissolved, “ex” for exchange, and “surf” for surface. Moles contains the number of moles of the element in each type of phase (stoichiometry of element times moles of species).  \n",
    "“ phases ” returns the maximum saturation index of all pure phases appropriate for the calculation. Count is number of pure phases. Name\\\\$ contains the phase names as defined in the PHASES data block. Type\\\\$ is “phase”. Moles contains the saturation index for the phases.  \n",
    "“ aq ” returns the sum of moles of all aqueous species in the calculation. Count is number of aqueous species. Name\\\\$ contains the aqueous species names. Type\\\\$ is “aq”. Moles contains the moles of species.  \n",
    "“equi” returns the sum of moles of all equilibrium phases in the calculation. Count is number of equilibrium phases. Name\\\\$ contains the equilibrium phase names. Type\\\\$ is “equi”. Moles contains the moles of each equilibrium phase.  \n",
    "“ ex ” returns the sum of moles of all exchange species in the calculation. Count is number of exchange species. Name\\\\$ contains the exchange species names. Type\\\\$ is “ex”. Moles contains the moles of species.  \n",
    "“kin” returns the sum of moles of all kinetic reactants in the calculation. Count is number of kinetic reactants. Name\\\\$ contains the kinetic reactant names. Type\\\\$ is “kin”. Moles contains the moles of each kinetic reactant. The chemical formula used in the kinetic reaction can be determined by using a reaction name from Name\\\\$ as the first argument of the KINETICS_FORMULA\\\\$ Basic function.  \n",
    "“ surf ” returns the sum of moles of all surface species in the calculation. Count is number of surface species. Name\\\\$ contains the surface species names. Type\\\\$ is “surf”. Moles contains the moles of species.  \n",
    "“ s_s ” returns sum of moles of all solid-solution components in the calculation. Count is number of solid-solution components. Name\\\\$ contains the names of the solid-solution components. Type\\\\$ is “s_s”. Moles contains the moles of components.  \n",
    "“ gas ” returns sum of moles of all gas components in the calculation. Count is number of gas components. Name\\\\$ contains names of the gas components. Type\\\\$ is “gas”. Moles contains the moles of gas components"
   ]
  },
  {
   "cell_type": "code",
   "execution_count": 60,
   "id": "e63d7f66",
   "metadata": {},
   "outputs": [
    {
     "name": "stdout",
     "output_type": "stream",
     "text": [
      "\n",
      "element_names =\n",
      "\n",
      "  12x1 cell array\n",
      "\n",
      "    {'H2O'   }\n",
      "    {'H'     }\n",
      "    {'O'     }\n",
      "    {'Charge'}\n",
      "    {'C'     }\n",
      "    {'Ca'    }\n",
      "    {'Cl'    }\n",
      "    {'K'     }\n",
      "    {'Mg'    }\n",
      "    {'Na'    }\n",
      "    {'S'     }\n",
      "    {'Si'    }\n",
      "\n",
      "\n",
      "surf_sp_name =\n",
      "\n",
      "  10x1 cell array\n",
      "\n",
      "    {'Chalk_aCO3-1.667' }\n",
      "    {'Chalk_aHCO3-0.667'}\n",
      "    {'Chalk_aOH-0.667'  }\n",
      "    {'Chalk_aOH2+0.333' }\n",
      "    {'Chalk_aSO4-1.667' }\n",
      "    {'Chalk_c-0.333'    }\n",
      "    {'Chalk_cCa+1.667'  }\n",
      "    {'Chalk_cH+0.667'   }\n",
      "    {'Chalk_cMg+1.667'  }\n",
      "    {'Chalk_cNa+0.667'  }\n",
      "\n",
      "\n",
      "surf_type =\n",
      "\n",
      "  10x1 cell array\n",
      "\n",
      "    {'Chalk_a'}\n",
      "    {'Chalk_a'}\n",
      "    {'Chalk_a'}\n",
      "    {'Chalk_a'}\n",
      "    {'Chalk_a'}\n",
      "    {'Chalk_c'}\n",
      "    {'Chalk_c'}\n",
      "    {'Chalk_c'}\n",
      "    {'Chalk_c'}\n",
      "    {'Chalk_c'}\n",
      "\n",
      "\n",
      "surf_name =\n",
      "\n",
      "    'Chalk'\n",
      "\n",
      "\n",
      "sur_sp_list =\n",
      "\n",
      "    'Chalk_aCO3-1.667 Chalk_aHCO3-0.667 Chalk_aOH-0.667 Chalk_aOH2+0.333 Chalk_aSO4-1.667 Chalk_c-0.333 Chalk_cCa+1.667 Chalk_cH+0.667 Chalk_cMg+1.667 Chalk_cNa+0.667'\n",
      "\n"
     ]
    }
   ],
   "source": [
    "element_names = phreeqc_rm.GetComponents()\n",
    "surf_sp_name = phreeqc_rm.GetSurfaceSpeciesNames()\n",
    "surf_type = phreeqc_rm.GetSurfaceTypes\n",
    "b = split(surf_type{1}, '_');\n",
    "surf_name = strjoin(b(1:end-1), '_')\n",
    "sur_sp_list = strjoin(phreeqc_rm.GetSurfaceSpeciesNames())"
   ]
  },
  {
   "cell_type": "code",
   "execution_count": 61,
   "id": "4add809d",
   "metadata": {},
   "outputs": [
    {
     "name": "stdout",
     "output_type": "stream",
     "text": [
      "\n",
      "ans =\n",
      "\n",
      "    'chalk_fast'\n",
      "\n",
      "\n",
      "sur_sp_list =\n",
      "\n",
      "    'Chalk_aCO3-1.667 Chalk_aHCO3-0.667 Chalk_aOH-0.667 Chalk_aOH2+0.333 Chalk_aSO4-1.667 Chalk_c-0.333 Chalk_cCa+1.667 Chalk_cH+0.667 Chalk_cMg+1.667 Chalk_cNa+0.667'\n",
      "\n",
      "\n",
      "ans =\n",
      "\n",
      "  9x1 cell array\n",
      "\n",
      "    {'Charge'}\n",
      "    {'C'     }\n",
      "    {'Ca'    }\n",
      "    {'Cl'    }\n",
      "    {'K'     }\n",
      "    {'Mg'    }\n",
      "    {'Na'    }\n",
      "    {'S'     }\n",
      "    {'Si'    }\n",
      "\n"
     ]
    }
   ],
   "source": [
    "a = 'chalk_fast_a';\n",
    "b = split(a, '_');\n",
    "strjoin(b(1:end-1), '_')\n",
    "sur_sp_list = strjoin(phreeqc_rm.GetSurfaceSpeciesNames())\n",
    "element_names(4:end)"
   ]
  },
  {
   "cell_type": "code",
   "execution_count": 62,
   "id": "bf47b28b",
   "metadata": {},
   "outputs": [
    {
     "name": "stdout",
     "output_type": "stream",
     "text": [
      "\n",
      "surf_call =\n",
      "\n",
      "    'EDL(\"C\",\"Chalk\") EDL(\"Ca\",\"Chalk\") EDL(\"Cl\",\"Chalk\") EDL(\"K\",\"Chalk\") EDL(\"Mg\",\"Chalk\") EDL(\"Na\",\"Chalk\") EDL(\"S\",\"Chalk\") EDL(\"Si\",\"Chalk\")'\n",
      "\n"
     ]
    }
   ],
   "source": [
    "% sw.solution_selected_output\n",
    "ind_charge = find(strcmpi(element_names, 'Charge'));\n",
    "surf_call = strjoin(cellfun(@(x)(['SURF(\"' x '\",\"' surf_name '\")']), element_names(ind_charge+1:end), 'UniformOutput', false))"
   ]
  },
  {
   "cell_type": "markdown",
   "id": "6912b85d",
   "metadata": {},
   "source": [
    "As you can see from the above results, the RM_FindComponents must be called before retrieving any other species-related information from the PhreeqcRM instance. Note that there is no need to call RM_RunCells function and only running the phreeqc string or file is enough for acquiring the data required for creating the selected output block. It might even be possible to retrieve the selected output values, that I will test in the following cells."
   ]
  },
  {
   "cell_type": "code",
   "execution_count": 63,
   "id": "c5ba3d39",
   "metadata": {},
   "outputs": [
    {
     "name": "stdout",
     "output_type": "stream",
     "text": [
      "\n",
      "new_string =\n",
      "\n",
      "    'SURFACE_MASTER_SPECIES \n",
      "      Chalk_a Chalk_aOH-0.667 \n",
      "      Chalk_c Chalk_cH+0.667 \n",
      "      SURFACE_SPECIES \n",
      "      Chalk_cH+0.667 = Chalk_cH+0.667 \n",
      "      log_k 0 \n",
      "      delta_h 0 \n",
      "      -cd_music 0  0  0  0  0 \n",
      "      Chalk_aOH-0.667 = Chalk_aOH-0.667 \n",
      "      log_k 0 \n",
      "      delta_h 0 \n",
      "      -cd_music 0  0  0  0  0 \n",
      "      Chalk_cH+0.667 = Chalk_c-0.333 + H+ \n",
      "      log_k -3.1446 \n",
      "      delta_h 0 \n",
      "      -cd_music -1  0  0  0  0 \n",
      "      Chalk_cH+0.667 + Ca+2 = Chalk_cCa+1.667 + H+ \n",
      "      log_k -2.1934 \n",
      "      delta_h 0 \n",
      "      -cd_music -1  2  0  0  0 \n",
      "      Chalk_cH+0.667 + Mg+2 = Chalk_cMg+1.667 + H+ \n",
      "      log_k -2.3467 \n",
      "      delta_h 0 \n",
      "      -cd_music -1  2  0  0  0 \n",
      "      Chalk_aOH-0.667 + H+ = Chalk_aOH2+0.333 \n",
      "      log_k 13.5401 \n",
      "      delta_h 0 \n",
      "      -cd_music 1  0  0  0  0 \n",
      "      Chalk_aOH-0.667 + CO3-2 + H+ = Chalk_aHCO3-0.667 + OH- \n",
      "      log_k 9.2433 \n",
      "      delta_h 0 \n",
      "      -cd_music 0.6        -0.6           0           0           0 \n",
      "      Chalk_aOH-0.667 + CO3-2 = Chalk_aCO3-1.667 + OH- \n",
      "      log_k 1 \n",
      "      delta_h 0 \n",
      "      -cd_music 0.6        -1.6           0           0           0 \n",
      "      Chalk_aOH-0.667 + SO4-2 = Chalk_aSO4-1.667 + OH- \n",
      "      log_k -0.141 \n",
      "      delta_h 0 \n",
      "      -cd_music 1.4        -2.4           0           0           0 \n",
      "      Chalk_cH+0.667 + Na+ = Chalk_cNa+0.667 + H+ \n",
      "      log_k -3.7379 \n",
      "      delta_h 0 \n",
      "      -cd_music -1  1  0  0  0 \n",
      "      SOLUTION  1 Seawater \n",
      "      units ppm \n",
      "      pressure 1 \n",
      "      temp 25 \n",
      "      pH 8.22 \n",
      "      pe 8.451 \n",
      "      density 1.0253 \n",
      "      Ca    412.3 \n",
      "      Mg    1291.8 \n",
      "      Na    10768 \n",
      "      K    399.1 \n",
      "      Si    4.28 \n",
      "      Cl    19353 \n",
      "      S(6)    2712 \n",
      "      Alkalinity 141.682   as   HCO3 \n",
      "      END \n",
      "      SURFACE 1 Calcite_CD_MUSIC \n",
      "      -cd_music \n",
      "      -sites_units density \n",
      "      Chalk_a 4.95 2 10 \n",
      "      Chalk_c 4.95 \n",
      "      -capacitances  1.3         4.5 \n",
      "      -equilibrate  1 \n",
      "     END\n",
      "     SELECTED_OUTPUT 1 \n",
      "      -reset false\n",
      "      -molalities Chalk_aCO3-1.667 Chalk_aHCO3-0.667 Chalk_aOH-0.667 Chalk_aOH2+0.333 Chalk_aSO4-1.667 Chalk_c-0.333 Chalk_cCa+1.667 Chalk_cH+0.667 Chalk_cMg+1.667 Chalk_cNa+0.667 \n",
      "      USER_PUNCH\n",
      "      -headings  C Ca Cl K Mg Na S Si \n",
      "      10 PUNCH EDL(\"C\",\"Chalk\") EDL(\"Ca\",\"Chalk\") EDL(\"Cl\",\"Chalk\") EDL(\"K\",\"Chalk\") EDL(\"Mg\",\"Chalk\") EDL(\"Na\",\"Chalk\") EDL(\"S\",\"Chalk\") EDL(\"Si\",\"Chalk\") \n",
      "      END'\n",
      "\n"
     ]
    }
   ],
   "source": [
    "so_string = strjoin([\"\\nSELECTED_OUTPUT\" num2str(calcite.number) \"\\n\"]);\n",
    "so_string = strjoin([so_string  \"-reset false\\n\"]);\n",
    "so_string = strjoin([so_string \"-molalities\" sur_sp_list \"\\n\"]);\n",
    "so_string = strjoin([so_string  \"USER_PUNCH\\n\"]);\n",
    "so_string = strjoin([so_string  \"-headings \"  element_names(ind_charge+1:end)' \"\\n\"]);\n",
    "so_string = strjoin([so_string  \"10 PUNCH\" surf_call \"\\n\"]);\n",
    "so_string = strjoin([so_string  \"END\"]);\n",
    "so_string = sprintf(char(so_string));\n",
    "new_string = [iph_string so_string]"
   ]
  },
  {
   "cell_type": "code",
   "execution_count": 64,
   "id": "106d79ce",
   "metadata": {},
   "outputs": [
    {
     "name": "stdout",
     "output_type": "stream",
     "text": [
      "\n",
      "ans =\n",
      "\n",
      "    'IRM_OK'\n",
      "\n"
     ]
    }
   ],
   "source": [
    "phreeqc_rm.RM_RunString(true, true, true, new_string);\n",
    "phreeqc_rm.RM_FindComponents(); % always run it first\n",
    "phreeqc_rm.RM_SetSelectedOutputOn(true);\n",
    "phreeqc_rm.RM_SetComponentH2O(true);\n",
    "phreeqc_rm.RM_SetUnitsSolution(2);\n",
    "phreeqc_rm.RM_SetSpeciesSaveOn(true);\n",
    "ic1 = -1*ones(7, 1);\n",
    "ic2 = -1*ones(7, 1);\n",
    "% 1 solution, 2 eq phase, 3 exchange, 4 surface, 5 gas, 6 solid solution, 7 kinetic\n",
    "f1 = ones(7, 1);\n",
    "ic1(1) = sw.number;              % Solution seawater\n",
    "ic1(4) = calcite.number;         % Surface calcite\n",
    "phreeqc_rm.RM_InitialPhreeqc2Module(ic1, ic2, f1);\n",
    "phreeqc_rm.RM_RunCells();\n",
    "t_out = phreeqc_rm.GetSelectedOutputTable(calcite.number);\n",
    "phreeqc_rm.RM_Destroy()"
   ]
  },
  {
   "cell_type": "markdown",
   "id": "4c26a6cd",
   "metadata": {},
   "source": [
    "## Running the cell with selected output"
   ]
  },
  {
   "cell_type": "code",
   "execution_count": 65,
   "id": "53ef9f6a",
   "metadata": {},
   "outputs": [
    {
     "name": "stdout",
     "output_type": "stream",
     "text": [
      "\n",
      "ans =\n",
      "\n",
      "  1x18 cell array\n",
      "\n",
      "  Columns 1 through 8\n",
      "\n",
      "    {'C'}    {'Ca'}    {'Cl'}    {'K'}    {'Mg'}    {'Na'}    {'S'}    {'Si'}\n",
      "\n",
      "  Columns 9 through 11\n",
      "\n",
      "    {'m_Chalk_aCO3-1...'}    {'m_Chalk_aHCO3-...'}    {'m_Chalk_aOH-0....'}\n",
      "\n",
      "  Columns 12 through 14\n",
      "\n",
      "    {'m_Chalk_aOH2+0...'}    {'m_Chalk_aSO4-1...'}    {'m_Chalk_c-0.33...'}\n",
      "\n",
      "  Columns 15 through 17\n",
      "\n",
      "    {'m_Chalk_cCa+1....'}    {'m_Chalk_cH+0.6...'}    {'m_Chalk_cMg+1....'}\n",
      "\n",
      "  Column 18\n",
      "\n",
      "    {'m_Chalk_cNa+0....'}\n",
      "\n",
      "\n",
      "ans =\n",
      "\n",
      "  1x18 cell array\n",
      "\n",
      "  Columns 1 through 8\n",
      "\n",
      "    {[0]}    {[0]}    {[0]}    {[0]}    {[0]}    {[0]}    {[0]}    {[0]}\n",
      "\n",
      "  Columns 9 through 12\n",
      "\n",
      "    {[1.8585e-06]}    {[9.0870e-07]}    {[2.0515e-08]}    {[0.0016]}\n",
      "\n",
      "  Columns 13 through 16\n",
      "\n",
      "    {[3.8143e-05]}    {[0.0016]}    {[7.2357e-06]}    {[4.9839e-09]}\n",
      "\n",
      "  Columns 17 through 18\n",
      "\n",
      "    {[2.8959e-05]}    {[6.3541e-05]}\n",
      "\n"
     ]
    }
   ],
   "source": [
    "t_out.keys\n",
    "t_out.values"
   ]
  }
 ],
 "metadata": {
  "kernelspec": {
   "display_name": "Matlab",
   "language": "matlab",
   "name": "matlab"
  },
  "language_info": {
   "codemirror_mode": "octave",
   "file_extension": ".m",
   "help_links": [
    {
     "text": "MetaKernel Magics",
     "url": "https://metakernel.readthedocs.io/en/latest/source/README.html"
    }
   ],
   "mimetype": "text/x-octave",
   "name": "matlab",
   "version": "0.17.1"
  }
 },
 "nbformat": 4,
 "nbformat_minor": 5
}
